{
 "cells": [
  {
   "cell_type": "code",
   "execution_count": null,
   "metadata": {
    "collapsed": true
   },
   "outputs": [],
   "source": [
    "import xarray\n",
    "import pandas as pd\n",
    "import seaborn\n",
    "import os\n",
    "import pickle\n",
    "import statistics\n",
    "import numpy as np\n",
    "\n",
    "from neural_structural_optimization import pipeline_utils\n",
    "from neural_structural_optimization import problems\n",
    "from neural_structural_optimization import models\n",
    "from neural_structural_optimization import topo_api\n",
    "from neural_structural_optimization import train_switch\n",
    "import matplotlib.pyplot as plt\n",
    "from neural_structural_optimization.problems import PROBLEMS_BY_NAME"
   ]
  },
  {
   "cell_type": "code",
   "execution_count": null,
   "metadata": {
    "collapsed": true
   },
   "outputs": [],
   "source": [
    "max_iterations=200\n",
    "switch = [1,2,4,8,16,32,64]\n",
    "width = [128,64,32,16,1]\n",
    "cnn_kwargs=dict(resizes=(1, 1, 2, 2, 1))"
   ]
  },
  {
   "cell_type": "code",
   "execution_count": null,
   "metadata": {},
   "outputs": [],
   "source": [
    "examples = PROBLEMS_BY_NAME\n",
    "example_list =list(examples)\n",
    "len(set(list(examples)))"
   ]
  },
  {
   "cell_type": "code",
   "execution_count": null,
   "metadata": {
    "collapsed": true
   },
   "outputs": [],
   "source": [
    "D={}\n",
    "D_norm ={}"
   ]
  },
  {
   "cell_type": "code",
   "execution_count": null,
   "metadata": {
    "collapsed": true
   },
   "outputs": [],
   "source": [
    "for name in example_list:\n",
    "    example = examples[name]\n",
    "    result = {}\n",
    "    all=[]\n",
    "\n",
    "    if os.path.exists(\"results/cnn_{}.pkl\".format(name+\"_\"+str(max_iterations))):\n",
    "        ds_cnn_all = pickle.load(open(\"results/cnn_{}.pkl\".format(name+\"_\"+str(max_iterations)), 'rb'))\n",
    "        result[\"CNN\"] = ds_cnn_all.loss\n",
    "    else:\n",
    "        continue\n",
    "    if os.path.exists(\"results/pixel_{}.pkl\".format(name)):\n",
    "        ds_pixel = pickle.load(open(\"results/pixel_{}.pkl\".format(name), 'rb'))\n",
    "        result[\"Pixel\"] = ds_pixel.loss\n",
    "    else:\n",
    "        continue\n",
    "    all =result['CNN'].to_dict()['data']+result['Pixel'].to_dict()['data']\n",
    "\n",
    "    for i in switch:\n",
    "        if os.path.exists(\"results/pixel_switch_{}.pkl\".format(name+\"_\"+str(i))):\n",
    "            ds_pixel_switch = pickle.load(open(\"results/pixel_switch_{}.pkl\".format(name+\"_\"+str(i)), 'rb'))\n",
    "            result[\"Pixel_switch_{}\".format(i)] = ds_pixel_switch.loss\n",
    "            all =all + result[\"Pixel_switch_{}\".format(i)].to_dict()['data']\n",
    "        else:\n",
    "            continue\n",
    "    \n",
    "    D[name]=result\n",
    "        \n",
    "#NORMALIZATION\n",
    "    result_norm={}\n",
    "    cnn_norm=[]\n",
    "    max_example = max(all)\n",
    "    min_example = min(all)\n",
    "    \n",
    "    for k in result:\n",
    "        loss_norm=[]\n",
    "        for step_loss in result[k]:\n",
    "            loss_norm.append((float(step_loss)-min_example)/(max_example-min_example))\n",
    "        result_norm[k]=loss_norm\n",
    "\n",
    "    D_norm[name]=result_norm"
   ]
  },
  {
   "cell_type": "code",
   "execution_count": null,
   "metadata": {
    "collapsed": true,
    "scrolled": false
   },
   "outputs": [],
   "source": [
    "D_norm_min_loss={}\n",
    "for example in list(D_norm):\n",
    "    column={}\n",
    "    for model in list(D_norm[example]):\n",
    "        column[model]=min(list(D_norm[example][model]))\n",
    "    D_norm_min_loss[example]=column"
   ]
  },
  {
   "cell_type": "code",
   "execution_count": null,
   "metadata": {},
   "outputs": [],
   "source": [
    "table=pd.DataFrame.from_dict(D_norm_min_loss)\n",
    "table"
   ]
  },
  {
   "cell_type": "code",
   "execution_count": null,
   "metadata": {
    "collapsed": true
   },
   "outputs": [],
   "source": [
    "import numpy as np\n",
    "d = {}\n",
    "for col in table:\n",
    "    if any([np.isnan(v) for v in table[col].values]):\n",
    "        pass\n",
    "    else:\n",
    "        d[col] = table[col]\n",
    "table_filtered = pd.DataFrame(d)"
   ]
  },
  {
   "cell_type": "code",
   "execution_count": null,
   "metadata": {},
   "outputs": [],
   "source": [
    "mean_value_column=[]\n",
    "for model in list(table_filtered.axes[0]):\n",
    "    mean_val = statistics.mean(list(table_filtered.loc[model,:]))\n",
    "    mean_value_column.append(mean_val)\n",
    "    print(model,\" \",mean_val)"
   ]
  },
  {
   "cell_type": "code",
   "execution_count": null,
   "metadata": {},
   "outputs": [],
   "source": [
    "init_loss_norm=[]\n",
    "for model in list(table_filtered.axes[0]):\n",
    "    init_losses=[]\n",
    "    for example in list(D_norm):\n",
    "        if model in list(D_norm[example]):\n",
    "            init_losses.append(list(D_norm[example][model])[0])\n",
    "    init_loss_norm.append(statistics.mean(init_losses))\n",
    "init_loss_norm"
   ]
  },
  {
   "cell_type": "code",
   "execution_count": null,
   "metadata": {},
   "outputs": [],
   "source": [
    "table_filtered['Mean Value']=mean_value_column\n",
    "table_filtered['Mean Initial Loss']=init_loss_norm\n",
    "table_filtered.sort_values('Mean Value')"
   ]
  },
  {
   "cell_type": "code",
   "execution_count": null,
   "metadata": {},
   "outputs": [],
   "source": [
    "table_mean_val={}\n",
    "\n",
    "for i in table_filtered.axes[0]:\n",
    "    table_mean_val[i]=round(table_filtered['Mean Value'][i],5)\n",
    "\n",
    "table_summary = pd.DataFrame.from_dict(table_mean_val,orient='index')\n"
   ]
  },
  {
   "cell_type": "markdown",
   "metadata": {},
   "source": [
    "# Summary curve\n"
   ]
  },
  {
   "cell_type": "code",
   "execution_count": null,
   "metadata": {
    "collapsed": true
   },
   "outputs": [],
   "source": [
    "models = list(D_norm[list(D_norm)[0]])\n",
    "examples = table_filtered.columns\n",
    "examples = [e for e in examples if e != 'Mean Value'] "
   ]
  },
  {
   "cell_type": "code",
   "execution_count": null,
   "metadata": {
    "scrolled": true
   },
   "outputs": [],
   "source": [
    "%matplotlib inline\n",
    "thresholds = np.linspace(0, 0.01, 50)\n",
    "for model in models:\n",
    "    curve = []\n",
    "    for threshold in thresholds:\n",
    "        percentage = len([example for example in examples if min(D_norm[example][model]) < threshold]) / float(len(examples))\n",
    "        curve.append(percentage)\n",
    "    plt.plot(thresholds, curve, label=model)\n",
    "plt.xlabel(\"Relative error threshold\")\n",
    "plt.ylabel(\"Cumulative probability\")\n",
    "plt.legend()\n"
   ]
  },
  {
   "cell_type": "markdown",
   "metadata": {},
   "source": [
    "# Examples\n"
   ]
  },
  {
   "cell_type": "code",
   "execution_count": null,
   "metadata": {},
   "outputs": [],
   "source": [
    "examples = PROBLEMS_BY_NAME\n",
    "rng=np.random.RandomState(827)\n",
    "example_list = list(rng.choice(list(examples),4,replace=False))\n",
    "example_list"
   ]
  },
  {
   "cell_type": "code",
   "execution_count": null,
   "metadata": {},
   "outputs": [],
   "source": [
    "for name in example_list:\n",
    "    \n",
    "    if os.path.exists(\"results/cnn_{}.pkl\".format(name+\"_\"+str(max_iterations))):\n",
    "        ds_cnn = pickle.load(open(\"results/cnn_{}.pkl\".format(name+\"_\"+str(max_iterations)), 'rb'))\n",
    "    else:\n",
    "        continue\n",
    "    \n",
    "    if os.path.exists(\"results/pixel_{}.pkl\".format(name)):\n",
    "        ds_pixel = pickle.load(open(\"results/pixel_{}.pkl\".format(name), 'rb'))\n",
    "    else:\n",
    "        continue\n",
    "\n",
    "    if os.path.exists(\"results/pixel_switch_{}.pkl\".format(name+\"_\"+str(8))):\n",
    "        ds_pixel_switch_8 = pickle.load(open(\"results/pixel_switch_{}.pkl\".format(name+\"_\"+str(8)), 'rb'))\n",
    "    else:\n",
    "        continue   \n",
    "    if os.path.exists(\"results/pixel_switch_{}.pkl\".format(name+\"_\"+str(64))):\n",
    "        ds_pixel_switch_64 = pickle.load(open(\"results/pixel_switch_{}.pkl\".format(name+\"_\"+str(64)), 'rb'))\n",
    "    else:\n",
    "        continue  \n",
    "\n",
    "   \n",
    "    z_cnn =ds_cnn.design.sel(step=max_iterations)\n",
    "    z_cnn = z_cnn.to_masked_array().data.reshape(1, z_cnn.shape[0], z_cnn.shape[1])\n",
    "    plt.imshow(z_cnn[0])\n",
    "    plt.savefig(\"eeml_results/\"+\"cnn_\"+name+\".pdf\")\n",
    "    plt.close()\n",
    "    loss_cnn_all = float(ds_cnn_all.loss[max_iterations])\n",
    "    \n",
    "    step_pixel =(len(ds_pixel.design.loc[:,0].step)-1)\n",
    "    z_pixel = ds_pixel.design.sel(step=step_pixel)\n",
    "    z_pixel = z_pixel.to_masked_array().data.reshape(1, z_pixel.shape[0], z_pixel.shape[1])\n",
    "    plt.imshow(z_pixel[0])\n",
    "    plt.savefig(\"eeml_results/\"+\"pixel_\"+name+\".pdf\")\n",
    "    plt.close()\n",
    "    \n",
    "    step_pixel_switch_8 =(len(ds_pixel_switch_8.design.loc[:,0].step)-1)\n",
    "    z_pixel_switch_8 = ds_pixel_switch_8.design.sel(step=step_pixel_switch_8)\n",
    "    z_pixel_switch_8 = z_pixel_switch_8.to_masked_array().data.reshape(1, z_pixel_switch_8.shape[0], z_pixel_switch_8.shape[1])\n",
    "    plt.imshow(z_pixel_switch_8[0])\n",
    "    plt.savefig(\"eeml_results/\"+\"pixel_switch_8_\"+name+\".pdf\")\n",
    "    plt.close()    \n",
    "\n",
    "    step_pixel_switch_64 =(len(ds_pixel_switch_64.design.loc[:,0].step)-1)\n",
    "    z_pixel_switch_64 = ds_pixel_switch_64.design.sel(step=step_pixel_switch_64)\n",
    "    z_pixel_switch_64 = z_pixel_switch_64.to_masked_array().data.reshape(1, z_pixel_switch_64.shape[0], z_pixel_switch_64.shape[1])\n",
    "    plt.imshow(z_pixel_switch_64[0])\n",
    "    plt.savefig(\"eeml_results/\"+\"pixel_switch_64_\"+name+\".pdf\")\n",
    "    plt.close()        \n",
    "    \n",
    "    \n",
    "    from matplotlib.pyplot import figure\n",
    "    figure(num=None, figsize=(8, 3.5), dpi=80, facecolor='w', edgecolor='k')\n",
    "    \n",
    "    print(ds_cnn.loss.to_pandas().cummin().plot(linewidth=2, label=\"CNN\"))\n",
    "    print(ds_pixel.loss.to_pandas().cummin().plot(linewidth=2, label=\"Pixel\"))\n",
    "    print(ds_pixel_switch_8.loss.to_pandas().cummin().plot(linewidth=2, label=\"Switch-8\"))\n",
    "    print(ds_pixel_switch_64.loss.to_pandas().cummin().plot(linewidth=2, label=\"Switch-64\"))\n",
    "     \n",
    "\n",
    "    plt.legend()\n",
    "    plt.yscale(\"log\")\n",
    "    plt.ylabel('Compliance (loss)')\n",
    "    plt.xlabel('Optimization step')\n",
    "    plt.savefig(\"eeml_results/\"+name+\"_losses\"+\".pdf\")\n",
    "    plt.close()\n",
    "    seaborn.despine()\n"
   ]
  }
 ],
 "metadata": {
  "kernelspec": {
   "display_name": "Python 3",
   "language": "python",
   "name": "python3"
  },
  "language_info": {
   "codemirror_mode": {
    "name": "ipython",
    "version": 3
   },
   "file_extension": ".py",
   "mimetype": "text/x-python",
   "name": "python",
   "nbconvert_exporter": "python",
   "pygments_lexer": "ipython3",
   "version": "3.6.3"
  }
 },
 "nbformat": 4,
 "nbformat_minor": 2
}
